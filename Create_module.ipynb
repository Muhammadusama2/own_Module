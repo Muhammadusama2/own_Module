{
 "cells": [
  {
   "cell_type": "code",
   "execution_count": 17,
   "id": "da640898",
   "metadata": {},
   "outputs": [],
   "source": []
  },
  {
   "cell_type": "code",
   "execution_count": 18,
   "id": "97e69c89",
   "metadata": {},
   "outputs": [],
   "source": [
    "import Mymodule"
   ]
  },
  {
   "cell_type": "code",
   "execution_count": 19,
   "id": "ed85a612",
   "metadata": {},
   "outputs": [],
   "source": [
    "u = Mymodule.add(2,5)"
   ]
  },
  {
   "cell_type": "code",
   "execution_count": 20,
   "id": "295d1f1d",
   "metadata": {},
   "outputs": [
    {
     "data": {
      "text/plain": [
       "7"
      ]
     },
     "execution_count": 20,
     "metadata": {},
     "output_type": "execute_result"
    }
   ],
   "source": [
    "u"
   ]
  },
  {
   "cell_type": "code",
   "execution_count": 21,
   "id": "9443e24a",
   "metadata": {},
   "outputs": [
    {
     "name": "stdout",
     "output_type": "stream",
     "text": [
      "12\n"
     ]
    }
   ],
   "source": [
    "print(Mymodule.add(10,2))"
   ]
  },
  {
   "cell_type": "code",
   "execution_count": 22,
   "id": "e6b46719",
   "metadata": {},
   "outputs": [
    {
     "data": {
      "text/plain": [
       "3"
      ]
     },
     "execution_count": 22,
     "metadata": {},
     "output_type": "execute_result"
    }
   ],
   "source": [
    "j = Mymodule.divide(10,3)\n",
    "j"
   ]
  },
  {
   "cell_type": "code",
   "execution_count": 23,
   "id": "700b51e2",
   "metadata": {},
   "outputs": [
    {
     "data": {
      "text/plain": [
       "1"
      ]
     },
     "execution_count": 23,
     "metadata": {},
     "output_type": "execute_result"
    }
   ],
   "source": [
    "k = Mymodule.modulo(10,3)\n",
    "k"
   ]
  },
  {
   "cell_type": "code",
   "execution_count": 24,
   "id": "03238c01",
   "metadata": {},
   "outputs": [
    {
     "name": "stdout",
     "output_type": "stream",
     "text": [
      "60\n"
     ]
    }
   ],
   "source": [
    "print(Mymodule.multiply(20,3))"
   ]
  },
  {
   "cell_type": "code",
   "execution_count": 25,
   "id": "84d3dd72",
   "metadata": {},
   "outputs": [
    {
     "name": "stdout",
     "output_type": "stream",
     "text": [
      "17\n"
     ]
    }
   ],
   "source": [
    "print(Mymodule.subtract(20,3))"
   ]
  },
  {
   "cell_type": "code",
   "execution_count": 26,
   "id": "e837aea0",
   "metadata": {},
   "outputs": [
    {
     "name": "stdout",
     "output_type": "stream",
     "text": [
      "400\n"
     ]
    }
   ],
   "source": [
    "print(Mymodule.square(20,2))"
   ]
  },
  {
   "cell_type": "code",
   "execution_count": 27,
   "id": "5d527891",
   "metadata": {},
   "outputs": [],
   "source": [
    "from Mymodule import multiply"
   ]
  },
  {
   "cell_type": "code",
   "execution_count": 28,
   "id": "02505de9",
   "metadata": {},
   "outputs": [
    {
     "data": {
      "text/plain": [
       "20"
      ]
     },
     "execution_count": 28,
     "metadata": {},
     "output_type": "execute_result"
    }
   ],
   "source": [
    "multiply(10,2)"
   ]
  },
  {
   "cell_type": "code",
   "execution_count": 12,
   "id": "d20a53e9",
   "metadata": {},
   "outputs": [],
   "source": []
  },
  {
   "cell_type": "code",
   "execution_count": null,
   "id": "2090b9f0",
   "metadata": {},
   "outputs": [],
   "source": []
  }
 ],
 "metadata": {
  "kernelspec": {
   "display_name": "Python 3 (ipykernel)",
   "language": "python",
   "name": "python3"
  },
  "language_info": {
   "codemirror_mode": {
    "name": "ipython",
    "version": 3
   },
   "file_extension": ".py",
   "mimetype": "text/x-python",
   "name": "python",
   "nbconvert_exporter": "python",
   "pygments_lexer": "ipython3",
   "version": "3.9.7"
  }
 },
 "nbformat": 4,
 "nbformat_minor": 5
}
