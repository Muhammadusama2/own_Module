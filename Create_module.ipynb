{
 "cells": [
  {
   "cell_type": "code",
   "execution_count": null,
   "id": "6c5a1b40",
   "metadata": {},
   "outputs": [],
   "source": [
    "# %load Mymodule.py\n",
    "def add(vale1 , value2):\n",
    "    return vale1 + value2\n",
    "\n",
    "def subtract(vale1 , value2):\n",
    "    return vale1 - value2\n",
    "\n",
    "def multiply(vale1 , value2):\n",
    "    return vale1 * value2\n",
    "\n",
    "def divide(vale1 , value2):\n",
    "    return vale1 // value2\n",
    "\n",
    "def modulo(vale1 , value2):\n",
    "    return vale1 % value2\n",
    "\n",
    "def square(vale1 , value2):\n",
    "    return vale1 ** value2\n"
   ]
  },
  {
   "cell_type": "code",
   "execution_count": 18,
   "id": "d68153d7",
   "metadata": {},
   "outputs": [],
   "source": [
    "import Mymodule"
   ]
  },
  {
   "cell_type": "code",
   "execution_count": 19,
   "id": "0e623a1d",
   "metadata": {},
   "outputs": [],
   "source": [
    "u = Mymodule.add(2,5)"
   ]
  },
  {
   "cell_type": "code",
   "execution_count": 20,
   "id": "120c00c8",
   "metadata": {},
   "outputs": [
    {
     "data": {
      "text/plain": [
       "7"
      ]
     },
     "execution_count": 20,
     "metadata": {},
     "output_type": "execute_result"
    }
   ],
   "source": [
    "u"
   ]
  },
  {
   "cell_type": "code",
   "execution_count": 21,
   "id": "fc413747",
   "metadata": {},
   "outputs": [
    {
     "name": "stdout",
     "output_type": "stream",
     "text": [
      "12\n"
     ]
    }
   ],
   "source": [
    "print(Mymodule.add(10,2))"
   ]
  },
  {
   "cell_type": "code",
   "execution_count": 22,
   "id": "7423f7f1",
   "metadata": {},
   "outputs": [
    {
     "data": {
      "text/plain": [
       "3"
      ]
     },
     "execution_count": 22,
     "metadata": {},
     "output_type": "execute_result"
    }
   ],
   "source": [
    "j = Mymodule.divide(10,3)\n",
    "j"
   ]
  },
  {
   "cell_type": "code",
   "execution_count": 23,
   "id": "7d8f24b8",
   "metadata": {},
   "outputs": [
    {
     "data": {
      "text/plain": [
       "1"
      ]
     },
     "execution_count": 23,
     "metadata": {},
     "output_type": "execute_result"
    }
   ],
   "source": [
    "k = Mymodule.modulo(10,3)\n",
    "k"
   ]
  },
  {
   "cell_type": "code",
   "execution_count": 24,
   "id": "972bfcbf",
   "metadata": {},
   "outputs": [
    {
     "name": "stdout",
     "output_type": "stream",
     "text": [
      "60\n"
     ]
    }
   ],
   "source": [
    "print(Mymodule.multiply(20,3))"
   ]
  },
  {
   "cell_type": "code",
   "execution_count": 25,
   "id": "c6742a2e",
   "metadata": {},
   "outputs": [
    {
     "name": "stdout",
     "output_type": "stream",
     "text": [
      "17\n"
     ]
    }
   ],
   "source": [
    "print(Mymodule.subtract(20,3))"
   ]
  },
  {
   "cell_type": "code",
   "execution_count": 26,
   "id": "48087f0a",
   "metadata": {},
   "outputs": [
    {
     "name": "stdout",
     "output_type": "stream",
     "text": [
      "400\n"
     ]
    }
   ],
   "source": [
    "print(Mymodule.square(20,2))"
   ]
  },
  {
   "cell_type": "code",
   "execution_count": 27,
   "id": "3123cb6d",
   "metadata": {},
   "outputs": [],
   "source": [
    "from Mymodule import multiply"
   ]
  },
  {
   "cell_type": "code",
   "execution_count": 28,
   "id": "52477207",
   "metadata": {},
   "outputs": [
    {
     "data": {
      "text/plain": [
       "20"
      ]
     },
     "execution_count": 28,
     "metadata": {},
     "output_type": "execute_result"
    }
   ],
   "source": [
    "multiply(10,2)"
   ]
  },
  {
   "cell_type": "code",
   "execution_count": 12,
   "id": "8062f7b7",
   "metadata": {},
   "outputs": [],
   "source": []
  },
  {
   "cell_type": "code",
   "execution_count": null,
   "id": "16f359a1",
   "metadata": {},
   "outputs": [],
   "source": []
  }
 ],
 "metadata": {
  "kernelspec": {
   "display_name": "Python 3 (ipykernel)",
   "language": "python",
   "name": "python3"
  },
  "language_info": {
   "codemirror_mode": {
    "name": "ipython",
    "version": 3
   },
   "file_extension": ".py",
   "mimetype": "text/x-python",
   "name": "python",
   "nbconvert_exporter": "python",
   "pygments_lexer": "ipython3",
   "version": "3.9.7"
  }
 },
 "nbformat": 4,
 "nbformat_minor": 5
}
